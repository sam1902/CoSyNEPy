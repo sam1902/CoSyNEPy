{
 "cells": [
  {
   "cell_type": "code",
   "execution_count": 1,
   "metadata": {},
   "outputs": [],
   "source": [
    "import numpy as np\n",
    "import math\n",
    "# %timeit -n10 "
   ]
  },
  {
   "cell_type": "markdown",
   "metadata": {},
   "source": [
    "### Fastest nth root"
   ]
  },
  {
   "cell_type": "code",
   "execution_count": 2,
   "metadata": {},
   "outputs": [],
   "source": [
    "x = np.random.random((500, 500))\n",
    "y = np.random.random((500, 500))"
   ]
  },
  {
   "cell_type": "code",
   "execution_count": 3,
   "metadata": {},
   "outputs": [
    {
     "name": "stdout",
     "output_type": "stream",
     "text": [
      "3.94 ms ± 55.2 µs per loop (mean ± std. dev. of 7 runs, 100 loops each)\n"
     ]
    }
   ],
   "source": [
    "%timeit -n20 x**(1/40)"
   ]
  },
  {
   "cell_type": "code",
   "execution_count": 4,
   "metadata": {},
   "outputs": [
    {
     "name": "stdout",
     "output_type": "stream",
     "text": [
      "3.99 ms ± 42.3 µs per loop (mean ± std. dev. of 7 runs, 100 loops each)\n"
     ]
    }
   ],
   "source": [
    "%timeit -n20 np.power(x, 1/40)"
   ]
  },
  {
   "cell_type": "markdown",
   "metadata": {},
   "source": [
    "### Fastest random float [0, 1["
   ]
  },
  {
   "cell_type": "code",
   "execution_count": 5,
   "metadata": {},
   "outputs": [
    {
     "name": "stdout",
     "output_type": "stream",
     "text": [
      "45.7 ns ± 5.89 ns per loop (mean ± std. dev. of 7 runs, 40000 loops each)\n"
     ]
    }
   ],
   "source": [
    "from random import random as fastRandom\n",
    "%timeit -n400 fastRandom()"
   ]
  },
  {
   "cell_type": "code",
   "execution_count": 6,
   "metadata": {},
   "outputs": [
    {
     "name": "stdout",
     "output_type": "stream",
     "text": [
      "355 ns ± 34 ns per loop (mean ± std. dev. of 7 runs, 40000 loops each)\n"
     ]
    }
   ],
   "source": [
    "%timeit -n400 np.random.random()"
   ]
  },
  {
   "cell_type": "markdown",
   "metadata": {},
   "source": [
    "### Fastest power"
   ]
  },
  {
   "cell_type": "code",
   "execution_count": 7,
   "metadata": {},
   "outputs": [
    {
     "name": "stdout",
     "output_type": "stream",
     "text": [
      "4.26 ms ± 69.5 µs per loop (mean ± std. dev. of 7 runs, 100 loops each)\n",
      "4.16 ms ± 133 µs per loop (mean ± std. dev. of 7 runs, 100 loops each)\n"
     ]
    }
   ],
   "source": [
    "%timeit -n20 x ** y\n",
    "%timeit -n20 np.power(x, y)"
   ]
  },
  {
   "cell_type": "code",
   "execution_count": 8,
   "metadata": {},
   "outputs": [
    {
     "name": "stdout",
     "output_type": "stream",
     "text": [
      "92.9 µs ± 15.4 µs per loop (mean ± std. dev. of 7 runs, 100 loops each)\n",
      "4.18 ms ± 114 µs per loop (mean ± std. dev. of 7 runs, 100 loops each)\n"
     ]
    }
   ],
   "source": [
    "%timeit -n20 x ** 2\n",
    "%timeit -n20 np.power(x, 2)"
   ]
  },
  {
   "cell_type": "markdown",
   "metadata": {},
   "source": [
    "#### ==> Numpy.power is faster for small powers\n",
    "#### ==> Python ** is faster for large powers"
   ]
  },
  {
   "cell_type": "markdown",
   "metadata": {},
   "source": [
    "### Fastest Sqrt"
   ]
  },
  {
   "cell_type": "code",
   "execution_count": 9,
   "metadata": {},
   "outputs": [
    {
     "name": "stdout",
     "output_type": "stream",
     "text": [
      "192 µs ± 7.69 µs per loop (mean ± std. dev. of 7 runs, 500 loops each)\n",
      "195 µs ± 4.85 µs per loop (mean ± std. dev. of 7 runs, 500 loops each)\n"
     ]
    }
   ],
   "source": [
    "%timeit -n50 x ** (1/2)\n",
    "%timeit -n50 np.sqrt(x)"
   ]
  },
  {
   "cell_type": "markdown",
   "metadata": {},
   "source": [
    "### Fastest Descending sorting in numpy"
   ]
  },
  {
   "cell_type": "code",
   "execution_count": 10,
   "metadata": {},
   "outputs": [],
   "source": [
    "a = np.random.rand(40,40,80)"
   ]
  },
  {
   "cell_type": "code",
   "execution_count": 11,
   "metadata": {},
   "outputs": [
    {
     "name": "stdout",
     "output_type": "stream",
     "text": [
      "2.68 ms ± 54.8 µs per loop (mean ± std. dev. of 7 runs, 100 loops each)\n",
      "2.66 ms ± 36.4 µs per loop (mean ± std. dev. of 7 runs, 100 loops each)\n",
      "2.78 ms ± 52.8 µs per loop (mean ± std. dev. of 7 runs, 100 loops each)\n"
     ]
    }
   ],
   "source": [
    "%timeit -n10 np.flip(np.sort(a, axis=-1, kind='quicksort'), axis=-1)\n",
    "%timeit -n10 np.sort(a, axis=-1, kind='quicksort')[::-1]\n",
    "%timeit -n10 (-np.sort(-a, axis=-1, kind='quicksort'))"
   ]
  },
  {
   "cell_type": "markdown",
   "metadata": {},
   "source": [
    "### Fastest derangment\n",
    "i.e. random shuffling such that no element is at the same place as in the begining, i.e. without fixed point"
   ]
  },
  {
   "cell_type": "code",
   "execution_count": 12,
   "metadata": {},
   "outputs": [],
   "source": [
    "def random_derangement_1(n):\n",
    "    while True:\n",
    "        v = np.arange(n)\n",
    "        for j in np.arange(n - 1, -1, -1):\n",
    "            p = np.random.randint(0, j+1)\n",
    "            if v[p] == j:\n",
    "                break\n",
    "            else:\n",
    "                v[j], v[p] = v[p], v[j]\n",
    "        else:\n",
    "            if v[0] != 0:\n",
    "                return v"
   ]
  },
  {
   "cell_type": "code",
   "execution_count": 13,
   "metadata": {},
   "outputs": [],
   "source": [
    "def random_derangement_2(N):\n",
    "    original = np.arange(N)\n",
    "    new = np.random.permutation(N)\n",
    "    same = np.where(original == new)[0]\n",
    "    while len(same) != 0:\n",
    "        swap = same[np.random.permutation(len(same))]\n",
    "        new[same] = new[swap]\n",
    "        same = np.where(original == new)[0]\n",
    "        if len(same) == 1:\n",
    "            swap = np.random.randint(0, N)\n",
    "            new[[same[0], swap]] = new[[swap, same[0]]]\n",
    "    return new"
   ]
  },
  {
   "cell_type": "code",
   "execution_count": 14,
   "metadata": {},
   "outputs": [],
   "source": [
    "import itertools"
   ]
  },
  {
   "cell_type": "code",
   "execution_count": 15,
   "metadata": {},
   "outputs": [],
   "source": [
    "def random_derangement_3(n):\n",
    "    list_ex = np.arange(n)\n",
    "    i = filter(lambda p: not any(i1==i2 for i1,i2 in zip(list_ex, p)), itertools.permutations(list_ex, len(list_ex)))\n",
    "    return next(i)"
   ]
  },
  {
   "cell_type": "code",
   "execution_count": 16,
   "metadata": {},
   "outputs": [
    {
     "name": "stdout",
     "output_type": "stream",
     "text": [
      "6.03 ms ± 230 µs per loop (mean ± std. dev. of 7 runs, 100 loops each)\n"
     ]
    }
   ],
   "source": [
    "%timeit -n10 random_derangement_1(2000)"
   ]
  },
  {
   "cell_type": "code",
   "execution_count": 17,
   "metadata": {},
   "outputs": [
    {
     "name": "stdout",
     "output_type": "stream",
     "text": [
      "68.1 µs ± 2.05 µs per loop (mean ± std. dev. of 7 runs, 900 loops each)\n"
     ]
    }
   ],
   "source": [
    "%timeit -n90 random_derangement_2(2000)"
   ]
  },
  {
   "cell_type": "code",
   "execution_count": 18,
   "metadata": {},
   "outputs": [],
   "source": [
    "# Wont run the test...\n",
    "#%timeit -n100 random_derangement_3(2000)"
   ]
  },
  {
   "cell_type": "code",
   "execution_count": 19,
   "metadata": {},
   "outputs": [
    {
     "name": "stdout",
     "output_type": "stream",
     "text": [
      "41.8 µs ± 6.23 µs per loop (mean ± std. dev. of 7 runs, 300 loops each)\n"
     ]
    }
   ],
   "source": [
    "%timeit -n30 np.random.permutation(2000)"
   ]
  },
  {
   "cell_type": "markdown",
   "metadata": {},
   "source": [
    "#### Result\n",
    "random_derangement_2 is the clear winner"
   ]
  },
  {
   "cell_type": "markdown",
   "metadata": {},
   "source": [
    "## Fastest random in multiple distribs"
   ]
  },
  {
   "cell_type": "code",
   "execution_count": 20,
   "metadata": {},
   "outputs": [],
   "source": [
    "import scipy.stats as stats\n",
    "# Middle | Ignores half for crossing over\n",
    "middle = lambda n : int(n/2)\n",
    "# Uniform | Okay but in nature crossing over isn't uniform\n",
    "uniform = lambda n : np.random.randint(n)\n",
    "# Uniform Middle | Better, but still ignores the extremis\n",
    "uniformMiddle = lambda n: np.random.randint(int(n/2 - n/4), int(n/2 + n/4))\n",
    "# Normal | Better, but small proba that x >= n or x < 0\n",
    "normal = lambda n : int(np.random.normal(n*0.5, n*0.33))\n",
    "# Normal truncated | Best solution, fits nature, but rather costly\n",
    "normalTrucated = lambda n : int(stats.truncnorm(-1.5, 3-((3+n)/n), loc=n/2, scale=n*0.3).rvs(1)[0])\n",
    "# Normal truncated | Best solution, fits nature, but rather costly\n",
    "def normalTrucatedSingle(n):\n",
    "    nrml = np.random.normal(n*0.5, n*0.33)\n",
    "    if nrml < 0:\n",
    "        return 0\n",
    "    elif nrml >= n:\n",
    "        return n-1\n",
    "    return nrml\n",
    "def normalTrucatedMultiple(n, size=1):\n",
    "    return np.random.normal(n*0.5, n*0.33, size=size).astype(int).clip(0, n-1)"
   ]
  },
  {
   "cell_type": "code",
   "execution_count": 21,
   "metadata": {},
   "outputs": [
    {
     "name": "stdout",
     "output_type": "stream",
     "text": [
      "212 ns ± 18 ns per loop (mean ± std. dev. of 7 runs, 3000 loops each)\n"
     ]
    }
   ],
   "source": [
    "%timeit -n30 middle(60000)"
   ]
  },
  {
   "cell_type": "code",
   "execution_count": 22,
   "metadata": {},
   "outputs": [
    {
     "name": "stdout",
     "output_type": "stream",
     "text": [
      "1.15 µs ± 75.9 ns per loop (mean ± std. dev. of 7 runs, 3000 loops each)\n"
     ]
    }
   ],
   "source": [
    "%timeit -n30 uniform(60000)"
   ]
  },
  {
   "cell_type": "code",
   "execution_count": 23,
   "metadata": {},
   "outputs": [
    {
     "name": "stdout",
     "output_type": "stream",
     "text": [
      "1.65 µs ± 77.4 ns per loop (mean ± std. dev. of 7 runs, 3000 loops each)\n"
     ]
    }
   ],
   "source": [
    "%timeit -n30 uniformMiddle(60000)"
   ]
  },
  {
   "cell_type": "code",
   "execution_count": 24,
   "metadata": {},
   "outputs": [
    {
     "name": "stdout",
     "output_type": "stream",
     "text": [
      "1.93 µs ± 746 ns per loop (mean ± std. dev. of 7 runs, 3000 loops each)\n"
     ]
    }
   ],
   "source": [
    "%timeit -n30 normal(60000)"
   ]
  },
  {
   "cell_type": "code",
   "execution_count": 25,
   "metadata": {},
   "outputs": [
    {
     "name": "stdout",
     "output_type": "stream",
     "text": [
      "647 µs ± 22.8 µs per loop (mean ± std. dev. of 7 runs, 300 loops each)\n"
     ]
    }
   ],
   "source": [
    "%timeit -n3 normalTrucated(600)"
   ]
  },
  {
   "cell_type": "code",
   "execution_count": 26,
   "metadata": {},
   "outputs": [
    {
     "name": "stdout",
     "output_type": "stream",
     "text": [
      "2.03 µs ± 918 ns per loop (mean ± std. dev. of 7 runs, 3000 loops each)\n"
     ]
    }
   ],
   "source": [
    "%timeit -n30 normalTrucatedSingle(60000)"
   ]
  },
  {
   "cell_type": "code",
   "execution_count": 27,
   "metadata": {},
   "outputs": [
    {
     "name": "stdout",
     "output_type": "stream",
     "text": [
      "3.89 µs ± 160 ns per loop (mean ± std. dev. of 7 runs, 3000 loops each)\n"
     ]
    }
   ],
   "source": [
    "%timeit -n30 normalTrucatedMultiple(60000, 1)"
   ]
  },
  {
   "cell_type": "code",
   "execution_count": 28,
   "metadata": {},
   "outputs": [
    {
     "name": "stdout",
     "output_type": "stream",
     "text": [
      "17.4 µs ± 1.02 µs per loop (mean ± std. dev. of 7 runs, 3000 loops each)\n"
     ]
    }
   ],
   "source": [
    "%timeit -n30 normalTrucatedMultiple(60000, 500)"
   ]
  },
  {
   "cell_type": "code",
   "execution_count": 29,
   "metadata": {},
   "outputs": [
    {
     "name": "stdout",
     "output_type": "stream",
     "text": [
      "43.2 µs ± 1.97 µs per loop (mean ± std. dev. of 7 runs, 3000 loops each)\n"
     ]
    }
   ],
   "source": [
    "%timeit -n30 normalTrucatedMultiple(60000, 1500)"
   ]
  },
  {
   "cell_type": "code",
   "execution_count": 30,
   "metadata": {},
   "outputs": [
    {
     "name": "stdout",
     "output_type": "stream",
     "text": [
      "134 µs ± 1.27 µs per loop (mean ± std. dev. of 7 runs, 3000 loops each)\n"
     ]
    }
   ],
   "source": [
    "%timeit -n30 normalTrucatedMultiple(60000, 5000)"
   ]
  },
  {
   "cell_type": "code",
   "execution_count": 31,
   "metadata": {},
   "outputs": [
    {
     "name": "stdout",
     "output_type": "stream",
     "text": [
      "296 ns ± 63.5 ns per loop (mean ± std. dev. of 7 runs, 3000 loops each)\n",
      "134 ns ± 4.02 ns per loop (mean ± std. dev. of 7 runs, 3000 loops each)\n"
     ]
    }
   ],
   "source": [
    "t = np.array(1.0)\n",
    "%timeit -n30 t.astype(int)\n",
    "%timeit -n30 int(t)"
   ]
  },
  {
   "cell_type": "code",
   "execution_count": 32,
   "metadata": {},
   "outputs": [
    {
     "name": "stdout",
     "output_type": "stream",
     "text": [
      "24.2 ns ± 2.49 ns per loop (mean ± std. dev. of 7 runs, 300000 loops each)\n"
     ]
    }
   ],
   "source": [
    "%timeit -n30 123456789%2==1"
   ]
  },
  {
   "cell_type": "code",
   "execution_count": 33,
   "metadata": {},
   "outputs": [
    {
     "name": "stdout",
     "output_type": "stream",
     "text": [
      "24.3 ns ± 1.95 ns per loop (mean ± std. dev. of 7 runs, 300000 loops each)\n"
     ]
    }
   ],
   "source": [
    "%timeit -n30 123456789&1==1"
   ]
  },
  {
   "cell_type": "code",
   "execution_count": 34,
   "metadata": {},
   "outputs": [
    {
     "data": {
      "text/plain": [
       "239861.0"
      ]
     },
     "execution_count": 34,
     "metadata": {},
     "output_type": "execute_result"
    }
   ],
   "source": [
    "from scipy.optimize import rosen as rosenSciPy\n",
    "rosenArray = lambda x : sum(100.0*(x[1:] - x[:-1]**2.0)**2.0 + (1 - x[:-1])**2.0)\n",
    "rosenArray(np.array([5,7,4,9]))"
   ]
  },
  {
   "cell_type": "code",
   "execution_count": 35,
   "metadata": {},
   "outputs": [
    {
     "data": {
      "text/plain": [
       "32416"
      ]
     },
     "execution_count": 35,
     "metadata": {},
     "output_type": "execute_result"
    }
   ],
   "source": [
    "rosenBivariate = lambda x, y: (1-x) ** 2 + 100*(y-x**2)**2\n",
    "rosenBivariate(5,7)"
   ]
  },
  {
   "cell_type": "code",
   "execution_count": 36,
   "metadata": {},
   "outputs": [
    {
     "name": "stdout",
     "output_type": "stream",
     "text": [
      "59.1 µs ± 2.1 µs per loop (mean ± std. dev. of 7 runs, 10000 loops each)\n"
     ]
    }
   ],
   "source": [
    "%timeit -n10 rosenArray(np.array([1433,4521, 3432, 4324] * 90))"
   ]
  },
  {
   "cell_type": "code",
   "execution_count": 37,
   "metadata": {},
   "outputs": [
    {
     "name": "stdout",
     "output_type": "stream",
     "text": [
      "34.9 µs ± 644 ns per loop (mean ± std. dev. of 7 runs, 30000 loops each)\n"
     ]
    }
   ],
   "source": [
    "L = [1433,4521,3432,4324] * 8\n",
    "%timeit -n30 sum([rosenBivariate(L[i], L[i+1]) for i in range(len(L)-1)])"
   ]
  },
  {
   "cell_type": "code",
   "execution_count": 38,
   "metadata": {},
   "outputs": [
    {
     "name": "stdout",
     "output_type": "stream",
     "text": [
      "42.8 µs ± 1.72 µs per loop (mean ± std. dev. of 7 runs, 10000 loops each)\n"
     ]
    }
   ],
   "source": [
    "%timeit -n10 rosenSciPy(np.array([1433,4521, 3432, 4324] * 90))"
   ]
  },
  {
   "cell_type": "code",
   "execution_count": 39,
   "metadata": {},
   "outputs": [
    {
     "data": {
      "text/plain": [
       "60.773156"
      ]
     },
     "execution_count": 39,
     "metadata": {},
     "output_type": "execute_result"
    }
   ],
   "source": [
    "rosenBivariate(0.32, 0.879)"
   ]
  },
  {
   "cell_type": "code",
   "execution_count": 40,
   "metadata": {},
   "outputs": [],
   "source": [
    "a = np.random.rand(10)"
   ]
  },
  {
   "cell_type": "code",
   "execution_count": 41,
   "metadata": {},
   "outputs": [
    {
     "name": "stdout",
     "output_type": "stream",
     "text": [
      "394 ms ± 29.7 ms per loop (mean ± std. dev. of 7 runs, 1 loop each)\n"
     ]
    }
   ],
   "source": [
    "size = 3000\n",
    "a = np.random.random_sample((size,size))\n",
    "b = np.random.random_sample((size,size))\n",
    "%timeit np.dot(a,b)"
   ]
  },
  {
   "cell_type": "code",
   "execution_count": 42,
   "metadata": {},
   "outputs": [],
   "source": [
    "matricesElementCount = lambda psi : [psi[i - 1] * psi[i] for i in range(1, len(psi))]"
   ]
  },
  {
   "cell_type": "code",
   "execution_count": 58,
   "metadata": {},
   "outputs": [],
   "source": [
    "psi = np.arange(1000)"
   ]
  },
  {
   "cell_type": "code",
   "execution_count": 61,
   "metadata": {},
   "outputs": [
    {
     "name": "stdout",
     "output_type": "stream",
     "text": [
      "233 µs ± 11.1 µs per loop (mean ± std. dev. of 7 runs, 200 loops each)\n"
     ]
    }
   ],
   "source": [
    "%timeit -n200 matricesElementCount(psi)"
   ]
  },
  {
   "cell_type": "code",
   "execution_count": 66,
   "metadata": {},
   "outputs": [
    {
     "name": "stdout",
     "output_type": "stream",
     "text": [
      "2.23 µs ± 1.24 µs per loop (mean ± std. dev. of 7 runs, 200 loops each)\n"
     ]
    }
   ],
   "source": [
    "%timeit -n200 np.multiply(psi[:-1], psi[1:])"
   ]
  },
  {
   "cell_type": "code",
   "execution_count": null,
   "metadata": {},
   "outputs": [],
   "source": []
  }
 ],
 "metadata": {
  "kernelspec": {
   "display_name": "Python 3",
   "language": "python",
   "name": "python3"
  },
  "language_info": {
   "codemirror_mode": {
    "name": "ipython",
    "version": 3
   },
   "file_extension": ".py",
   "mimetype": "text/x-python",
   "name": "python",
   "nbconvert_exporter": "python",
   "pygments_lexer": "ipython3",
   "version": "3.7.0"
  }
 },
 "nbformat": 4,
 "nbformat_minor": 2
}
