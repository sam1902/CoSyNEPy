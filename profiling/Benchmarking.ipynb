{
 "cells": [
  {
   "cell_type": "code",
   "execution_count": 1,
   "metadata": {},
   "outputs": [],
   "source": [
    "import numpy as np\n",
    "import math\n",
    "# %timeit -n10 "
   ]
  },
  {
   "cell_type": "markdown",
   "metadata": {},
   "source": [
    "### Fastest nth root"
   ]
  },
  {
   "cell_type": "code",
   "execution_count": 2,
   "metadata": {},
   "outputs": [],
   "source": [
    "x = np.random.random((500, 500))\n",
    "y = np.random.random((500, 500))"
   ]
  },
  {
   "cell_type": "code",
   "execution_count": 3,
   "metadata": {},
   "outputs": [
    {
     "name": "stdout",
     "output_type": "stream",
     "text": [
      "4.16 ms ± 99.6 µs per loop (mean ± std. dev. of 7 runs, 100 loops each)\n"
     ]
    }
   ],
   "source": [
    "%timeit -n100 x**(1/40)"
   ]
  },
  {
   "cell_type": "code",
   "execution_count": 4,
   "metadata": {},
   "outputs": [
    {
     "name": "stdout",
     "output_type": "stream",
     "text": [
      "4.04 ms ± 113 µs per loop (mean ± std. dev. of 7 runs, 100 loops each)\n"
     ]
    }
   ],
   "source": [
    "%timeit -n100 np.power(x, 1/40)"
   ]
  },
  {
   "cell_type": "markdown",
   "metadata": {},
   "source": [
    "### Fastest random float [0, 1["
   ]
  },
  {
   "cell_type": "code",
   "execution_count": 5,
   "metadata": {},
   "outputs": [
    {
     "name": "stdout",
     "output_type": "stream",
     "text": [
      "45.5 ns ± 5.51 ns per loop (mean ± std. dev. of 7 runs, 40000 loops each)\n"
     ]
    }
   ],
   "source": [
    "from random import random as fastRandom\n",
    "%timeit -n40000 fastRandom()"
   ]
  },
  {
   "cell_type": "code",
   "execution_count": 6,
   "metadata": {},
   "outputs": [
    {
     "name": "stdout",
     "output_type": "stream",
     "text": [
      "330 ns ± 25.7 ns per loop (mean ± std. dev. of 7 runs, 40000 loops each)\n"
     ]
    }
   ],
   "source": [
    "%timeit -n40000 np.random.random()"
   ]
  },
  {
   "cell_type": "markdown",
   "metadata": {},
   "source": [
    "### Fastest power"
   ]
  },
  {
   "cell_type": "code",
   "execution_count": 7,
   "metadata": {},
   "outputs": [
    {
     "name": "stdout",
     "output_type": "stream",
     "text": [
      "4.27 ms ± 72.8 µs per loop (mean ± std. dev. of 7 runs, 100 loops each)\n",
      "4.03 ms ± 33 µs per loop (mean ± std. dev. of 7 runs, 100 loops each)\n"
     ]
    }
   ],
   "source": [
    "%timeit -n100 x ** y\n",
    "%timeit -n100 np.power(x, y)"
   ]
  },
  {
   "cell_type": "code",
   "execution_count": 8,
   "metadata": {},
   "outputs": [
    {
     "name": "stdout",
     "output_type": "stream",
     "text": [
      "84.7 µs ± 7.15 µs per loop (mean ± std. dev. of 7 runs, 100 loops each)\n",
      "4.15 ms ± 102 µs per loop (mean ± std. dev. of 7 runs, 100 loops each)\n"
     ]
    }
   ],
   "source": [
    "%timeit -n100 x ** 2\n",
    "%timeit -n100 np.power(x, 2)"
   ]
  },
  {
   "cell_type": "markdown",
   "metadata": {},
   "source": [
    "#### ==> Numpy.power is faster for small powers\n",
    "#### ==> Python ** is faster for large powers"
   ]
  },
  {
   "cell_type": "markdown",
   "metadata": {},
   "source": [
    "### Fastest Sqrt"
   ]
  },
  {
   "cell_type": "code",
   "execution_count": 9,
   "metadata": {},
   "outputs": [
    {
     "name": "stdout",
     "output_type": "stream",
     "text": [
      "197 µs ± 2.57 µs per loop (mean ± std. dev. of 7 runs, 500 loops each)\n",
      "194 µs ± 8.51 µs per loop (mean ± std. dev. of 7 runs, 500 loops each)\n"
     ]
    }
   ],
   "source": [
    "%timeit -n500 x ** (1/2)\n",
    "%timeit -n500 np.sqrt(x)"
   ]
  },
  {
   "cell_type": "markdown",
   "metadata": {},
   "source": [
    "### Fastest Descending sorting in numpy"
   ]
  },
  {
   "cell_type": "code",
   "execution_count": 10,
   "metadata": {},
   "outputs": [],
   "source": [
    "a = np.random.rand(40,40,80)"
   ]
  },
  {
   "cell_type": "code",
   "execution_count": 11,
   "metadata": {},
   "outputs": [
    {
     "name": "stdout",
     "output_type": "stream",
     "text": [
      "2.67 ms ± 106 µs per loop (mean ± std. dev. of 7 runs, 100 loops each)\n",
      "2.55 ms ± 17.5 µs per loop (mean ± std. dev. of 7 runs, 100 loops each)\n",
      "2.65 ms ± 52.3 µs per loop (mean ± std. dev. of 7 runs, 100 loops each)\n"
     ]
    }
   ],
   "source": [
    "%timeit -n100 np.flip(np.sort(a, axis=-1, kind='quicksort'), axis=-1)\n",
    "%timeit -n100 np.sort(a, axis=-1, kind='quicksort')[::-1]\n",
    "%timeit -n100 (-np.sort(-a, axis=-1, kind='quicksort'))"
   ]
  },
  {
   "cell_type": "markdown",
   "metadata": {},
   "source": [
    "### Fastest derangment\n",
    "i.e. random shuffling such that no element is at the same place as in the begining, i.e. without fixed point"
   ]
  },
  {
   "cell_type": "code",
   "execution_count": 12,
   "metadata": {},
   "outputs": [],
   "source": [
    "def random_derangement_1(n):\n",
    "    while True:\n",
    "        v = np.arange(n)\n",
    "        for j in np.arange(n - 1, -1, -1):\n",
    "            p = np.random.randint(0, j+1)\n",
    "            if v[p] == j:\n",
    "                break\n",
    "            else:\n",
    "                v[j], v[p] = v[p], v[j]\n",
    "        else:\n",
    "            if v[0] != 0:\n",
    "                return v"
   ]
  },
  {
   "cell_type": "code",
   "execution_count": 13,
   "metadata": {},
   "outputs": [],
   "source": [
    "def random_derangement_2(N):\n",
    "    original = np.arange(N)\n",
    "    new = np.random.permutation(N)\n",
    "    same = np.where(original == new)[0]\n",
    "    while len(same) != 0:\n",
    "        swap = same[np.random.permutation(len(same))]\n",
    "        new[same] = new[swap]\n",
    "        same = np.where(original == new)[0]\n",
    "        if len(same) == 1:\n",
    "            swap = np.random.randint(0, N)\n",
    "            new[[same[0], swap]] = new[[swap, same[0]]]\n",
    "    return new"
   ]
  },
  {
   "cell_type": "code",
   "execution_count": 14,
   "metadata": {},
   "outputs": [],
   "source": [
    "import itertools"
   ]
  },
  {
   "cell_type": "code",
   "execution_count": 15,
   "metadata": {},
   "outputs": [],
   "source": [
    "def random_derangement_3(n):\n",
    "    list_ex = np.arange(n)\n",
    "    i = filter(lambda p: not any(i1==i2 for i1,i2 in zip(list_ex, p)), itertools.permutations(list_ex, len(list_ex)))\n",
    "    return next(i)"
   ]
  },
  {
   "cell_type": "code",
   "execution_count": 16,
   "metadata": {},
   "outputs": [
    {
     "name": "stdout",
     "output_type": "stream",
     "text": [
      "5.85 ms ± 455 µs per loop (mean ± std. dev. of 7 runs, 100 loops each)\n"
     ]
    }
   ],
   "source": [
    "%timeit -n100 random_derangement_1(2000)"
   ]
  },
  {
   "cell_type": "code",
   "execution_count": 40,
   "metadata": {},
   "outputs": [
    {
     "name": "stdout",
     "output_type": "stream",
     "text": [
      "59.4 µs ± 4.13 µs per loop (mean ± std. dev. of 7 runs, 900 loops each)\n"
     ]
    }
   ],
   "source": [
    "%timeit -n900 random_derangement_2(2000)"
   ]
  },
  {
   "cell_type": "code",
   "execution_count": 18,
   "metadata": {},
   "outputs": [],
   "source": [
    "# Wont run the test...\n",
    "#%timeit -n100 random_derangement_3(2000)"
   ]
  },
  {
   "cell_type": "code",
   "execution_count": 37,
   "metadata": {},
   "outputs": [
    {
     "name": "stdout",
     "output_type": "stream",
     "text": [
      "35.8 µs ± 2.83 µs per loop (mean ± std. dev. of 7 runs, 300 loops each)\n"
     ]
    }
   ],
   "source": [
    "%timeit -n300 np.random.permutation(2000)"
   ]
  },
  {
   "cell_type": "markdown",
   "metadata": {},
   "source": [
    "#### Result\n",
    "random_derangement_2 is the clear winner"
   ]
  },
  {
   "cell_type": "markdown",
   "metadata": {},
   "source": [
    "## Fastest random in multiple distribs"
   ]
  },
  {
   "cell_type": "code",
   "execution_count": 124,
   "metadata": {},
   "outputs": [],
   "source": [
    "import scipy.stats as stats\n",
    "# Middle | Ignores half for crossing over\n",
    "middle = lambda n : int(n/2)\n",
    "# Uniform | Okay but in nature crossing over isn't uniform\n",
    "uniform = lambda n : np.random.randint(n)\n",
    "# Uniform Middle | Better, but still ignores the extremis\n",
    "uniformMiddle = lambda n: np.random.randint(int(n/2 - n/4), int(n/2 + n/4))\n",
    "# Normal | Better, but small proba that x >= n or x < 0\n",
    "normal = lambda n : int(np.random.normal(n*0.5, n*0.33))\n",
    "# Normal truncated | Best solution, fits nature, but rather costly\n",
    "normalTrucated = lambda n : int(stats.truncnorm(-1.5, 3-((3+n)/n), loc=n/2, scale=n*0.3).rvs(1)[0])\n",
    "# Normal truncated | Best solution, fits nature, but rather costly\n",
    "def normalTrucatedSingle(n):\n",
    "    nrml = np.random.normal(n*0.5, n*0.33)\n",
    "    if nrml < 0:\n",
    "        return 0\n",
    "    elif nrml >= n:\n",
    "        return n-1\n",
    "    return nrml\n",
    "def normalTrucatedMultiple(n, size=1):\n",
    "    return np.random.normal(n*0.5, n*0.33, size=size).astype(int).clip(0, n-1)"
   ]
  },
  {
   "cell_type": "code",
   "execution_count": 63,
   "metadata": {},
   "outputs": [
    {
     "name": "stdout",
     "output_type": "stream",
     "text": [
      "293 ns ± 21.1 ns per loop (mean ± std. dev. of 7 runs, 3000 loops each)\n"
     ]
    }
   ],
   "source": [
    "%timeit -n3000 middle(60000)"
   ]
  },
  {
   "cell_type": "code",
   "execution_count": 64,
   "metadata": {},
   "outputs": [
    {
     "name": "stdout",
     "output_type": "stream",
     "text": [
      "1.16 µs ± 161 ns per loop (mean ± std. dev. of 7 runs, 3000 loops each)\n"
     ]
    }
   ],
   "source": [
    "%timeit -n3000 uniform(60000)"
   ]
  },
  {
   "cell_type": "code",
   "execution_count": 65,
   "metadata": {},
   "outputs": [
    {
     "name": "stdout",
     "output_type": "stream",
     "text": [
      "1.73 µs ± 215 ns per loop (mean ± std. dev. of 7 runs, 3000 loops each)\n"
     ]
    }
   ],
   "source": [
    "%timeit -n3000 uniformMiddle(60000)"
   ]
  },
  {
   "cell_type": "code",
   "execution_count": 66,
   "metadata": {},
   "outputs": [
    {
     "name": "stdout",
     "output_type": "stream",
     "text": [
      "2 µs ± 939 ns per loop (mean ± std. dev. of 7 runs, 3000 loops each)\n"
     ]
    }
   ],
   "source": [
    "%timeit -n3000 normal(60000)"
   ]
  },
  {
   "cell_type": "code",
   "execution_count": 73,
   "metadata": {},
   "outputs": [
    {
     "name": "stdout",
     "output_type": "stream",
     "text": [
      "590 µs ± 6.7 µs per loop (mean ± std. dev. of 7 runs, 300 loops each)\n"
     ]
    }
   ],
   "source": [
    "%timeit -n300 normalTrucated(600)"
   ]
  },
  {
   "cell_type": "code",
   "execution_count": 135,
   "metadata": {},
   "outputs": [
    {
     "name": "stdout",
     "output_type": "stream",
     "text": [
      "1.77 µs ± 466 ns per loop (mean ± std. dev. of 7 runs, 3000 loops each)\n"
     ]
    }
   ],
   "source": [
    "%timeit -n3000 normalTrucatedSingle(60000)"
   ]
  },
  {
   "cell_type": "code",
   "execution_count": 134,
   "metadata": {},
   "outputs": [
    {
     "name": "stdout",
     "output_type": "stream",
     "text": [
      "3.8 µs ± 839 ns per loop (mean ± std. dev. of 7 runs, 3000 loops each)\n"
     ]
    }
   ],
   "source": [
    "%timeit -n3000 normalTrucatedMultiple(60000, 1)"
   ]
  },
  {
   "cell_type": "code",
   "execution_count": 143,
   "metadata": {},
   "outputs": [
    {
     "name": "stdout",
     "output_type": "stream",
     "text": [
      "16.3 µs ± 922 ns per loop (mean ± std. dev. of 7 runs, 3000 loops each)\n"
     ]
    }
   ],
   "source": [
    "%timeit -n3000 normalTrucatedMultiple(60000, 500)"
   ]
  },
  {
   "cell_type": "code",
   "execution_count": 144,
   "metadata": {},
   "outputs": [
    {
     "name": "stdout",
     "output_type": "stream",
     "text": [
      "41.7 µs ± 1.5 µs per loop (mean ± std. dev. of 7 runs, 3000 loops each)\n"
     ]
    }
   ],
   "source": [
    "%timeit -n3000 normalTrucatedMultiple(60000, 1500)"
   ]
  },
  {
   "cell_type": "code",
   "execution_count": 145,
   "metadata": {},
   "outputs": [
    {
     "name": "stdout",
     "output_type": "stream",
     "text": [
      "129 µs ± 1.05 µs per loop (mean ± std. dev. of 7 runs, 3000 loops each)\n"
     ]
    }
   ],
   "source": [
    "%timeit -n3000 normalTrucatedMultiple(60000, 5000)"
   ]
  },
  {
   "cell_type": "code",
   "execution_count": null,
   "metadata": {},
   "outputs": [],
   "source": []
  }
 ],
 "metadata": {
  "kernelspec": {
   "display_name": "Python 3",
   "language": "python",
   "name": "python3"
  },
  "language_info": {
   "codemirror_mode": {
    "name": "ipython",
    "version": 3
   },
   "file_extension": ".py",
   "mimetype": "text/x-python",
   "name": "python",
   "nbconvert_exporter": "python",
   "pygments_lexer": "ipython3",
   "version": "3.7.0"
  }
 },
 "nbformat": 4,
 "nbformat_minor": 2
}
